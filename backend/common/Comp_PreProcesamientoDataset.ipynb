{
  "nbformat": 4,
  "nbformat_minor": 0,
  "metadata": {
    "colab": {
      "provenance": []
    },
    "kernelspec": {
      "name": "python3",
      "display_name": "Python 3"
    },
    "language_info": {
      "name": "python"
    }
  },
  "cells": [
    {
      "cell_type": "code",
      "source": [
        "import pandas as pd\n",
        "import numpy as np\n",
        "from datetime import timedelta\n",
        "import random\n",
        "\n",
        "# ---------- 1. CARGA Y LIMPIEZA INICIAL ----------\n",
        "df = pd.read_csv(\"Accidentes de tránsito en carreteras-2020-2021-Sutran.csv\", encoding=\"latin1\", delimiter=\";\")\n",
        "\n",
        "# Eliminar columnas irrelevantes\n",
        "df = df.drop(columns=[\"FECHA_CORTE\"])\n",
        "\n",
        "# Convertir FECHA a tipo datetime\n",
        "df[\"FECHA\"] = pd.to_datetime(df[\"FECHA\"], format=\"%Y%m%d\", errors=\"coerce\")\n",
        "df[\"AÑO\"] = df[\"FECHA\"].dt.year\n",
        "df[\"MES\"] = df[\"FECHA\"].dt.month\n",
        "df[\"DIA\"] = df[\"FECHA\"].dt.day\n",
        "\n",
        "# Convertir HORA a entero\n",
        "df[\"HORA\"] = pd.to_datetime(df[\"HORA\"], format=\"%H:%M\", errors=\"coerce\").dt.hour\n",
        "\n",
        "# Convertir a numérico\n",
        "df[\"KILOMETRO\"] = pd.to_numeric(df[\"KILOMETRO\"], errors=\"coerce\")\n",
        "df[\"FALLECIDOS\"] = pd.to_numeric(df[\"FALLECIDOS\"], errors=\"coerce\")\n",
        "df[\"HERIDOS\"] = pd.to_numeric(df[\"HERIDOS\"], errors=\"coerce\")\n",
        "\n",
        "# Eliminar filas incompletas\n",
        "df = df.dropna(subset=[\"FECHA\", \"HORA\", \"DEPARTAMENTO\", \"CODIGO_VÍA\", \"KILOMETRO\", \"MODALIDAD\", \"FALLECIDOS\", \"HERIDOS\"])\n",
        "\n",
        "# Reset index para evitar errores\n",
        "df = df.reset_index(drop=True)\n",
        "\n",
        "# ---------- 2. FUNCIÓN PARA GENERAR DATOS SINTÉTICOS ----------\n",
        "def generar_sinteticos(df_original, cantidad_deseada):\n",
        "    df_nuevo = []\n",
        "    n_original = len(df_original)\n",
        "\n",
        "    for _ in range(cantidad_deseada):\n",
        "        fila = df_original.iloc[random.randint(0, n_original - 1)].copy()\n",
        "\n",
        "        # Variar ligeramente los valores numéricos\n",
        "        fila[\"KILOMETRO\"] += np.random.normal(0, 2)\n",
        "        fila[\"KILOMETRO\"] = max(fila[\"KILOMETRO\"], 0)\n",
        "\n",
        "        # Variar la hora dentro del mismo día\n",
        "        fila[\"HORA\"] = min(max(fila[\"HORA\"] + random.randint(-2, 2), 0), 23)\n",
        "\n",
        "        # Modificar fecha aleatoriamente\n",
        "        delta_dias = random.randint(-365, 365)\n",
        "        fila[\"FECHA\"] = fila[\"FECHA\"] + timedelta(days=delta_dias)\n",
        "        fila[\"AÑO\"] = fila[\"FECHA\"].year\n",
        "        fila[\"MES\"] = fila[\"FECHA\"].month\n",
        "        fila[\"DIA\"] = fila[\"FECHA\"].day\n",
        "\n",
        "        # Leve aleatoriedad en víctimas\n",
        "        fila[\"FALLECIDOS\"] = max(0, int(fila[\"FALLECIDOS\"] + np.random.choice([0, 1, -1], p=[0.8, 0.1, 0.1])))\n",
        "        fila[\"HERIDOS\"] = max(0, int(fila[\"HERIDOS\"] + np.random.choice([0, 1, 2, -1], p=[0.7, 0.1, 0.1, 0.1])))\n",
        "\n",
        "        df_nuevo.append(fila)\n",
        "\n",
        "    return pd.DataFrame(df_nuevo)\n",
        "\n",
        "# ---------- 3. GENERAR NUEVOS REGISTROS ----------\n",
        "objetivo = 1_000_000\n",
        "faltan = objetivo - len(df)\n",
        "\n",
        "df_sintetico = generar_sinteticos(df, faltan)\n",
        "\n",
        "# Unimos los datos reales + sintéticos\n",
        "df_completo = pd.concat([df, df_sintetico], ignore_index=True)\n",
        "\n",
        "# ---------- 4. CLASE DE ACCIDENTE (opcional para clasificación) ----------\n",
        "df_completo[\"GRAVEDAD\"] = df_completo[\"FALLECIDOS\"] + df_completo[\"HERIDOS\"]\n",
        "df_completo[\"CLASE_ACCIDENTE\"] = pd.cut(df_completo[\"GRAVEDAD\"], bins=[-1, 0, 3, 100], labels=[\"Leve\", \"Moderado\", \"Grave\"])\n",
        "\n",
        "# ---------- 5. EXPORTAR ----------\n",
        "df_completo.to_csv(\"accidentes_completo.csv\", index=False)\n",
        "print(f\"Archivo generado con {len(df_completo):,} registros.\")\n"
      ],
      "metadata": {
        "colab": {
          "base_uri": "https://localhost:8080/"
        },
        "id": "12oxp3oSi9Lq",
        "outputId": "2b84e4bb-d6eb-4d25-ee72-b02ac34a831f"
      },
      "execution_count": 1,
      "outputs": [
        {
          "output_type": "stream",
          "name": "stdout",
          "text": [
            "Archivo generado con 1,000,000 registros.\n"
          ]
        }
      ]
    }
  ]
}